{
 "cells": [
  {
   "cell_type": "markdown",
   "metadata": {},
   "source": [
    "# Basic Flow Control"
   ]
  },
  {
   "cell_type": "markdown",
   "metadata": {},
   "source": [
    "This notebook contains examples for basic flow control syntax in Python."
   ]
  },
  {
   "cell_type": "markdown",
   "metadata": {},
   "source": [
    "## If Statements"
   ]
  },
  {
   "cell_type": "markdown",
   "metadata": {},
   "source": [
    "Simple if statement syntax. If we have a given value:"
   ]
  },
  {
   "cell_type": "code",
   "execution_count": 1,
   "metadata": {
    "collapsed": true
   },
   "outputs": [],
   "source": [
    "a = 9"
   ]
  },
  {
   "cell_type": "markdown",
   "metadata": {},
   "source": [
    "We can run a simple if statement as shown below:"
   ]
  },
  {
   "cell_type": "code",
   "execution_count": 2,
   "metadata": {
    "collapsed": true
   },
   "outputs": [],
   "source": [
    "if a <= 0:\n",
    "    str1 = \"less than 0.\"\n",
    "elif a >= 10:\n",
    "    str1 = \"greater than 10.\"\n",
    "else:\n",
    "    str1 = \"between 0 and 10.\""
   ]
  },
  {
   "cell_type": "markdown",
   "metadata": {},
   "source": [
    "Printing the result:"
   ]
  },
  {
   "cell_type": "code",
   "execution_count": 3,
   "metadata": {
    "collapsed": false
   },
   "outputs": [
    {
     "name": "stdout",
     "output_type": "stream",
     "text": [
      "The number 9 is between 0 and 10.\n"
     ]
    }
   ],
   "source": [
    "str2 = \"The number %d is \" %a  + str1\n",
    "print(str2)"
   ]
  },
  {
   "cell_type": "markdown",
   "metadata": {},
   "source": [
    "## For Loops and Error Catching"
   ]
  },
  {
   "cell_type": "markdown",
   "metadata": {},
   "source": [
    "Let's try deleting variables and see how to handle exceptions.\n",
    "\n",
    "If the current divided number is less than 1, then it will be deleted and it won't be able be able to print.\n",
    "Use \"try/except\" to catch the error and keep going!"
   ]
  },
  {
   "cell_type": "code",
   "execution_count": 4,
   "metadata": {
    "collapsed": false
   },
   "outputs": [
    {
     "name": "stdout",
     "output_type": "stream",
     "text": [
      "Trial #0\n",
      "-> Variable gone!\n",
      "\n",
      "Trial #1\n",
      "-> Variable gone!\n",
      "\n",
      "Trial #2\n",
      "-> All good since it's 1.0.\n",
      "\n"
     ]
    }
   ],
   "source": [
    "for i in range(3):\n",
    "    print(\"Trial #%d\" %i)\n",
    "    \n",
    "    testNum = i/2.\n",
    "    \n",
    "    # Delete variable if less than 1\n",
    "    if testNum < 1:\n",
    "        del testNum\n",
    "        \n",
    "    try:\n",
    "        print(\"-> All good since it's %.1f.\\n\" %testNum)\n",
    "    except:\n",
    "        print(\"-> Variable gone!\\n\")"
   ]
  }
 ],
 "metadata": {
  "kernelspec": {
   "display_name": "Python 3",
   "language": "python",
   "name": "python3"
  },
  "language_info": {
   "codemirror_mode": {
    "name": "ipython",
    "version": 3
   },
   "file_extension": ".py",
   "mimetype": "text/x-python",
   "name": "python",
   "nbconvert_exporter": "python",
   "pygments_lexer": "ipython3",
   "version": "3.5.2"
  }
 },
 "nbformat": 4,
 "nbformat_minor": 1
}
