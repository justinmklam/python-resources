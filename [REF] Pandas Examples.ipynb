{
 "cells": [
  {
   "cell_type": "code",
   "execution_count": 1,
   "metadata": {
    "collapsed": false
   },
   "outputs": [
    {
     "name": "stdout",
     "output_type": "stream",
     "text": [
      "     Year  Month  emktrf   SMB  ...     R22   R23   R24    R25\n",
      "0    1963      7   -0.44 -0.46  ...    0.35  1.17 -0.45  -1.11\n",
      "1    1963      8    5.02 -1.08  ...    4.34  4.66  8.16   6.25\n",
      "2    1963      9   -1.46 -0.32  ...   -0.75 -0.98 -0.12  -3.82\n",
      "3    1963     10    2.48 -0.58  ...    1.73 -0.23  2.36   0.48\n",
      "4    1963     11   -0.82 -1.06  ...    0.98 -1.56 -2.05   1.37\n",
      "..    ...    ...     ...   ...  ...     ...   ...   ...    ...\n",
      "337  1991      8    2.22  1.61  ...    0.59  2.81  1.22   1.76\n",
      "338  1991      9   -1.56  1.68  ...   -1.24 -0.98  0.48  -3.83\n",
      "339  1991     10    1.36  0.82  ...    1.00  2.00  3.16   0.49\n",
      "340  1991     11   -4.12 -0.56  ...   -5.50 -5.51 -3.79  -8.33\n",
      "341  1991     12   10.30 -2.35  ...    8.95  8.29  7.02  12.86\n",
      "\n",
      "[342 rows x 31 columns]\n"
     ]
    }
   ],
   "source": [
    "# clear workspace\n",
    "%reset -f \n",
    "\n",
    "import pandas as pd\n",
    "\n",
    "# change inline display settings\n",
    "pd.set_option('display.max_rows',10)\n",
    "pd.set_option('display.max_columns', 8)\n",
    "\n",
    "# Load data into pandas dataframe and specify header file \n",
    "dataframe = pd.read_csv('Pandas Example Data.csv', header=0)\n",
    "\n",
    "print(dataframe)"
   ]
  },
  {
   "cell_type": "markdown",
   "metadata": {},
   "source": [
    "#### Show datatype of each variable in dataframe"
   ]
  },
  {
   "cell_type": "code",
   "execution_count": 2,
   "metadata": {
    "collapsed": false
   },
   "outputs": [
    {
     "name": "stdout",
     "output_type": "stream",
     "text": [
      "Data types in dataframe: \n",
      " Year        int64\n",
      "Month       int64\n",
      "emktrf    float64\n",
      "SMB       float64\n",
      "HML       float64\n",
      "           ...   \n",
      "R21       float64\n",
      "R22       float64\n",
      "R23       float64\n",
      "R24       float64\n",
      "R25       float64\n",
      "dtype: object\n"
     ]
    }
   ],
   "source": [
    "print('Data types in dataframe: \\n',dataframe.dtypes)"
   ]
  },
  {
   "cell_type": "markdown",
   "metadata": {},
   "source": [
    "#### Set dataframe index to year"
   ]
  },
  {
   "cell_type": "code",
   "execution_count": 3,
   "metadata": {
    "collapsed": false
   },
   "outputs": [
    {
     "name": "stdout",
     "output_type": "stream",
     "text": [
      "      Month  emktrf   SMB   HML  ...     R22   R23   R24    R25\n",
      "Year                             ...                           \n",
      "1963      7   -0.44 -0.46 -0.97  ...    0.35  1.17 -0.45  -1.11\n",
      "1963      8    5.02 -1.08  1.79  ...    4.34  4.66  8.16   6.25\n",
      "1963      9   -1.46 -0.32  0.19  ...   -0.75 -0.98 -0.12  -3.82\n",
      "1963     10    2.48 -0.58 -0.02  ...    1.73 -0.23  2.36   0.48\n",
      "1963     11   -0.82 -1.06  1.59  ...    0.98 -1.56 -2.05   1.37\n",
      "...     ...     ...   ...   ...  ...     ...   ...   ...    ...\n",
      "1991      8    2.22  1.61 -0.76  ...    0.59  2.81  1.22   1.76\n",
      "1991      9   -1.56  1.68 -1.03  ...   -1.24 -0.98  0.48  -3.83\n",
      "1991     10    1.36  0.82 -0.41  ...    1.00  2.00  3.16   0.49\n",
      "1991     11   -4.12 -0.56 -1.78  ...   -5.50 -5.51 -3.79  -8.33\n",
      "1991     12   10.30 -2.35 -3.92  ...    8.95  8.29  7.02  12.86\n",
      "\n",
      "[342 rows x 30 columns]\n"
     ]
    }
   ],
   "source": [
    "dataframe = dataframe.set_index('Year')\n",
    "\n",
    "print(dataframe)"
   ]
  },
  {
   "cell_type": "markdown",
   "metadata": {},
   "source": [
    "#### Accessing via label slices (range)"
   ]
  },
  {
   "cell_type": "code",
   "execution_count": 4,
   "metadata": {
    "collapsed": false
   },
   "outputs": [
    {
     "name": "stdout",
     "output_type": "stream",
     "text": [
      "         R1     R2     R3     R4     R5\n",
      "Year                                   \n",
      "1970  -4.80  -3.14  -4.24  -2.47   0.24\n",
      "1970   2.32   3.66   3.77   3.18   4.58\n",
      "1970  -6.57  -5.20  -2.56   0.31  -1.29\n",
      "1970 -24.09 -18.97 -14.76 -12.98 -12.25\n",
      "1970 -10.07 -10.18  -9.13  -8.12 -10.37\n",
      "...     ...    ...    ...    ...    ...\n",
      "1975  -7.02  -6.33  -4.82  -5.36  -7.69\n",
      "1975  -5.36  -2.42  -3.12  -2.93  -3.89\n",
      "1975   1.51   1.39   2.75   2.73   1.00\n",
      "1975   0.06   1.91   1.96   2.49   3.67\n",
      "1975  -0.91  -1.21  -1.17  -1.02  -1.45\n",
      "\n",
      "[72 rows x 5 columns]\n"
     ]
    }
   ],
   "source": [
    "print(dataframe.loc[1970:1975,'R1':'R5'])"
   ]
  },
  {
   "cell_type": "markdown",
   "metadata": {},
   "source": [
    "#### Accessing via label slices (individual)"
   ]
  },
  {
   "cell_type": "code",
   "execution_count": 5,
   "metadata": {
    "collapsed": false
   },
   "outputs": [
    {
     "name": "stdout",
     "output_type": "stream",
     "text": [
      "         R1     R5\n",
      "Year              \n",
      "1970  -4.80   0.24\n",
      "1970   2.32   4.58\n",
      "1970  -6.57  -1.29\n",
      "1970 -24.09 -12.25\n",
      "1970 -10.07 -10.37\n",
      "...     ...    ...\n",
      "1975  -7.02  -7.69\n",
      "1975  -5.36  -3.89\n",
      "1975   1.51   1.00\n",
      "1975   0.06   3.67\n",
      "1975  -0.91  -1.45\n",
      "\n",
      "[24 rows x 2 columns]\n"
     ]
    }
   ],
   "source": [
    "print(dataframe.loc[[1970,1975],['R1','R5']])"
   ]
  },
  {
   "cell_type": "markdown",
   "metadata": {},
   "source": [
    "#### Accessing via integer slices"
   ]
  },
  {
   "cell_type": "code",
   "execution_count": 6,
   "metadata": {
    "collapsed": false
   },
   "outputs": [
    {
     "name": "stdout",
     "output_type": "stream",
     "text": [
      "         R1     R2     R3     R4     R5\n",
      "Year                                   \n",
      "1970  -4.80  -3.14  -4.24  -2.47   0.24\n",
      "1970   2.32   3.66   3.77   3.18   4.58\n",
      "1970  -6.57  -5.20  -2.56   0.31  -1.29\n",
      "1970 -24.09 -18.97 -14.76 -12.98 -12.25\n",
      "1970 -10.07 -10.18  -9.13  -8.12 -10.37\n",
      "...     ...    ...    ...    ...    ...\n",
      "1975  -7.02  -6.33  -4.82  -5.36  -7.69\n",
      "1975  -5.36  -2.42  -3.12  -2.93  -3.89\n",
      "1975   1.51   1.39   2.75   2.73   1.00\n",
      "1975   0.06   1.91   1.96   2.49   3.67\n",
      "1975  -0.91  -1.21  -1.17  -1.02  -1.45\n",
      "\n",
      "[72 rows x 5 columns]\n"
     ]
    }
   ],
   "source": [
    "print(dataframe.ix[1970:1975,5:10])"
   ]
  },
  {
   "cell_type": "markdown",
   "metadata": {},
   "source": [
    "#### Plot data"
   ]
  },
  {
   "cell_type": "code",
   "execution_count": 7,
   "metadata": {
    "collapsed": false
   },
   "outputs": [
    {
     "name": "stdout",
     "output_type": "stream",
     "text": [
      "Populating the interactive namespace from numpy and matplotlib\n"
     ]
    },
    {
     "data": {
      "text/plain": [
       "<matplotlib.legend.Legend at 0x1a72ddde748>"
      ]
     },
     "execution_count": 7,
     "metadata": {},
     "output_type": "execute_result"
    },
    {
     "data": {
      "image/png": "[encoded data removed]",
      "text/plain": [
       "<matplotlib.figure.Figure at 0x1a72dddef60>"
      ]
     },
     "metadata": {},
     "output_type": "display_data"
    }
   ],
   "source": [
    "import matplotlib.pyplot as plt\n",
    "\n",
    "%pylab inline  \n",
    "\n",
    "dataframe.plot(y='R1')\n",
    "plt.legend(('R1',))"
   ]
  },
  {
   "cell_type": "markdown",
   "metadata": {},
   "source": [
    "#### Perform operations on entire dataframe"
   ]
  },
  {
   "cell_type": "code",
   "execution_count": 8,
   "metadata": {
    "collapsed": false
   },
   "outputs": [
    {
     "name": "stdout",
     "output_type": "stream",
     "text": [
      "Sum:\n",
      "\n",
      "Month     2241.00\n",
      "emktrf     136.10\n",
      "SMB         90.75\n",
      "HML        135.70\n",
      "RF         189.12\n",
      "           ...   \n",
      "R21        316.44\n",
      "R22        304.36\n",
      "R23        312.70\n",
      "R24        363.98\n",
      "R25        362.71\n",
      "dtype: float64\n",
      "\n",
      "Mean:\n",
      "\n",
      "Month     6.552632\n",
      "emktrf    0.397953\n",
      "SMB       0.265351\n",
      "HML       0.396784\n",
      "RF        0.552982\n",
      "            ...   \n",
      "R21       0.925263\n",
      "R22       0.889942\n",
      "R23       0.914327\n",
      "R24       1.064269\n",
      "R25       1.060556\n",
      "dtype: float64\n",
      "\n",
      "Median:\n",
      "\n",
      "Month     7.000\n",
      "emktrf    0.490\n",
      "SMB       0.105\n",
      "HML       0.440\n",
      "RF        0.510\n",
      "          ...  \n",
      "R21       0.990\n",
      "R22       0.800\n",
      "R23       0.945\n",
      "R24       0.900\n",
      "R25       1.060\n",
      "dtype: float64\n"
     ]
    }
   ],
   "source": [
    "print('Sum:\\n')\n",
    "print(dataframe.sum())\n",
    "print('\\nMean:\\n')\n",
    "print(dataframe.mean())\n",
    "print('\\nMedian:\\n')\n",
    "print(dataframe.median())"
   ]
  }
 ],
 "metadata": {
  "kernelspec": {
   "display_name": "Python 3",
   "language": "python",
   "name": "python3"
  },
  "language_info": {
   "codemirror_mode": {
    "name": "ipython",
    "version": 3
   },
   "file_extension": ".py",
   "mimetype": "text/x-python",
   "name": "python",
   "nbconvert_exporter": "python",
   "pygments_lexer": "ipython3",
   "version": "3.5.0"
  }
 },
 "nbformat": 4,
 "nbformat_minor": 0
}
