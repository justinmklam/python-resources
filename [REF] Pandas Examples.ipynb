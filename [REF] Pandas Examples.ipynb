{
 "cells": [
  {
   "cell_type": "markdown",
   "metadata": {},
   "source": [
    "# Pandas Dataframes in Action"
   ]
  },
  {
   "cell_type": "markdown",
   "metadata": {},
   "source": [
    "Below is a collection of (hopefully useful) examples to demonstrate basic usage of dataframes."
   ]
  },
  {
   "cell_type": "markdown",
   "metadata": {},
   "source": [
    "## Setting Up The Workspace"
   ]
  },
  {
   "cell_type": "markdown",
   "metadata": {},
   "source": [
    "Clear workspace and import the pandas module."
   ]
  },
  {
   "cell_type": "code",
   "execution_count": 1,
   "metadata": {
    "collapsed": true
   },
   "outputs": [],
   "source": [
    "%reset -f \n",
    "import pandas as pd"
   ]
  },
  {
   "cell_type": "markdown",
   "metadata": {},
   "source": [
    "Change inline display settings for printed dataframes."
   ]
  },
  {
   "cell_type": "code",
   "execution_count": 2,
   "metadata": {
    "collapsed": true
   },
   "outputs": [],
   "source": [
    "pd.set_option('display.max_rows',10)\n",
    "pd.set_option('display.max_columns', 8)"
   ]
  },
  {
   "cell_type": "markdown",
   "metadata": {},
   "source": [
    "## Importing a CSV File"
   ]
  },
  {
   "cell_type": "markdown",
   "metadata": {},
   "source": [
    "Load data into pandas dataframe and specify which row is the header. In this case, it's the top row."
   ]
  },
  {
   "cell_type": "code",
   "execution_count": 3,
   "metadata": {
    "collapsed": false
   },
   "outputs": [
    {
     "data": {
      "text/html": [
       "<div>\n",
       "<table border=\"1\" class=\"dataframe\">\n",
       "  <thead>\n",
       "    <tr style=\"text-align: right;\">\n",
       "      <th></th>\n",
       "      <th>Year</th>\n",
       "      <th>Month</th>\n",
       "      <th>emktrf</th>\n",
       "      <th>SMB</th>\n",
       "      <th>...</th>\n",
       "      <th>R22</th>\n",
       "      <th>R23</th>\n",
       "      <th>R24</th>\n",
       "      <th>R25</th>\n",
       "    </tr>\n",
       "  </thead>\n",
       "  <tbody>\n",
       "    <tr>\n",
       "      <th>0</th>\n",
       "      <td>1963</td>\n",
       "      <td>7</td>\n",
       "      <td>-0.44</td>\n",
       "      <td>-0.46</td>\n",
       "      <td>...</td>\n",
       "      <td>0.35</td>\n",
       "      <td>1.17</td>\n",
       "      <td>-0.45</td>\n",
       "      <td>-1.11</td>\n",
       "    </tr>\n",
       "    <tr>\n",
       "      <th>1</th>\n",
       "      <td>1963</td>\n",
       "      <td>8</td>\n",
       "      <td>5.02</td>\n",
       "      <td>-1.08</td>\n",
       "      <td>...</td>\n",
       "      <td>4.34</td>\n",
       "      <td>4.66</td>\n",
       "      <td>8.16</td>\n",
       "      <td>6.25</td>\n",
       "    </tr>\n",
       "    <tr>\n",
       "      <th>2</th>\n",
       "      <td>1963</td>\n",
       "      <td>9</td>\n",
       "      <td>-1.46</td>\n",
       "      <td>-0.32</td>\n",
       "      <td>...</td>\n",
       "      <td>-0.75</td>\n",
       "      <td>-0.98</td>\n",
       "      <td>-0.12</td>\n",
       "      <td>-3.82</td>\n",
       "    </tr>\n",
       "    <tr>\n",
       "      <th>3</th>\n",
       "      <td>1963</td>\n",
       "      <td>10</td>\n",
       "      <td>2.48</td>\n",
       "      <td>-0.58</td>\n",
       "      <td>...</td>\n",
       "      <td>1.73</td>\n",
       "      <td>-0.23</td>\n",
       "      <td>2.36</td>\n",
       "      <td>0.48</td>\n",
       "    </tr>\n",
       "    <tr>\n",
       "      <th>4</th>\n",
       "      <td>1963</td>\n",
       "      <td>11</td>\n",
       "      <td>-0.82</td>\n",
       "      <td>-1.06</td>\n",
       "      <td>...</td>\n",
       "      <td>0.98</td>\n",
       "      <td>-1.56</td>\n",
       "      <td>-2.05</td>\n",
       "      <td>1.37</td>\n",
       "    </tr>\n",
       "    <tr>\n",
       "      <th>...</th>\n",
       "      <td>...</td>\n",
       "      <td>...</td>\n",
       "      <td>...</td>\n",
       "      <td>...</td>\n",
       "      <td>...</td>\n",
       "      <td>...</td>\n",
       "      <td>...</td>\n",
       "      <td>...</td>\n",
       "      <td>...</td>\n",
       "    </tr>\n",
       "    <tr>\n",
       "      <th>337</th>\n",
       "      <td>1991</td>\n",
       "      <td>8</td>\n",
       "      <td>2.22</td>\n",
       "      <td>1.61</td>\n",
       "      <td>...</td>\n",
       "      <td>0.59</td>\n",
       "      <td>2.81</td>\n",
       "      <td>1.22</td>\n",
       "      <td>1.76</td>\n",
       "    </tr>\n",
       "    <tr>\n",
       "      <th>338</th>\n",
       "      <td>1991</td>\n",
       "      <td>9</td>\n",
       "      <td>-1.56</td>\n",
       "      <td>1.68</td>\n",
       "      <td>...</td>\n",
       "      <td>-1.24</td>\n",
       "      <td>-0.98</td>\n",
       "      <td>0.48</td>\n",
       "      <td>-3.83</td>\n",
       "    </tr>\n",
       "    <tr>\n",
       "      <th>339</th>\n",
       "      <td>1991</td>\n",
       "      <td>10</td>\n",
       "      <td>1.36</td>\n",
       "      <td>0.82</td>\n",
       "      <td>...</td>\n",
       "      <td>1.00</td>\n",
       "      <td>2.00</td>\n",
       "      <td>3.16</td>\n",
       "      <td>0.49</td>\n",
       "    </tr>\n",
       "    <tr>\n",
       "      <th>340</th>\n",
       "      <td>1991</td>\n",
       "      <td>11</td>\n",
       "      <td>-4.12</td>\n",
       "      <td>-0.56</td>\n",
       "      <td>...</td>\n",
       "      <td>-5.50</td>\n",
       "      <td>-5.51</td>\n",
       "      <td>-3.79</td>\n",
       "      <td>-8.33</td>\n",
       "    </tr>\n",
       "    <tr>\n",
       "      <th>341</th>\n",
       "      <td>1991</td>\n",
       "      <td>12</td>\n",
       "      <td>10.30</td>\n",
       "      <td>-2.35</td>\n",
       "      <td>...</td>\n",
       "      <td>8.95</td>\n",
       "      <td>8.29</td>\n",
       "      <td>7.02</td>\n",
       "      <td>12.86</td>\n",
       "    </tr>\n",
       "  </tbody>\n",
       "</table>\n",
       "<p>342 rows × 31 columns</p>\n",
       "</div>"
      ],
      "text/plain": [
       "     Year  Month  emktrf   SMB  ...     R22   R23   R24    R25\n",
       "0    1963      7   -0.44 -0.46  ...    0.35  1.17 -0.45  -1.11\n",
       "1    1963      8    5.02 -1.08  ...    4.34  4.66  8.16   6.25\n",
       "2    1963      9   -1.46 -0.32  ...   -0.75 -0.98 -0.12  -3.82\n",
       "3    1963     10    2.48 -0.58  ...    1.73 -0.23  2.36   0.48\n",
       "4    1963     11   -0.82 -1.06  ...    0.98 -1.56 -2.05   1.37\n",
       "..    ...    ...     ...   ...  ...     ...   ...   ...    ...\n",
       "337  1991      8    2.22  1.61  ...    0.59  2.81  1.22   1.76\n",
       "338  1991      9   -1.56  1.68  ...   -1.24 -0.98  0.48  -3.83\n",
       "339  1991     10    1.36  0.82  ...    1.00  2.00  3.16   0.49\n",
       "340  1991     11   -4.12 -0.56  ...   -5.50 -5.51 -3.79  -8.33\n",
       "341  1991     12   10.30 -2.35  ...    8.95  8.29  7.02  12.86\n",
       "\n",
       "[342 rows x 31 columns]"
      ]
     },
     "execution_count": 3,
     "metadata": {},
     "output_type": "execute_result"
    }
   ],
   "source": [
    "dataframe = pd.read_csv('Pandas Example Data.csv', header=0)\n",
    "dataframe"
   ]
  },
  {
   "cell_type": "markdown",
   "metadata": {},
   "source": [
    "You can also display the dataframe using the print command, which looks like this:"
   ]
  },
  {
   "cell_type": "code",
   "execution_count": 4,
   "metadata": {
    "collapsed": false
   },
   "outputs": [
    {
     "name": "stdout",
     "output_type": "stream",
     "text": [
      "     Year  Month  emktrf   SMB  ...     R22   R23   R24    R25\n",
      "0    1963      7   -0.44 -0.46  ...    0.35  1.17 -0.45  -1.11\n",
      "1    1963      8    5.02 -1.08  ...    4.34  4.66  8.16   6.25\n",
      "2    1963      9   -1.46 -0.32  ...   -0.75 -0.98 -0.12  -3.82\n",
      "3    1963     10    2.48 -0.58  ...    1.73 -0.23  2.36   0.48\n",
      "4    1963     11   -0.82 -1.06  ...    0.98 -1.56 -2.05   1.37\n",
      "..    ...    ...     ...   ...  ...     ...   ...   ...    ...\n",
      "337  1991      8    2.22  1.61  ...    0.59  2.81  1.22   1.76\n",
      "338  1991      9   -1.56  1.68  ...   -1.24 -0.98  0.48  -3.83\n",
      "339  1991     10    1.36  0.82  ...    1.00  2.00  3.16   0.49\n",
      "340  1991     11   -4.12 -0.56  ...   -5.50 -5.51 -3.79  -8.33\n",
      "341  1991     12   10.30 -2.35  ...    8.95  8.29  7.02  12.86\n",
      "\n",
      "[342 rows x 31 columns]\n"
     ]
    }
   ],
   "source": [
    "print(dataframe)"
   ]
  },
  {
   "cell_type": "markdown",
   "metadata": {},
   "source": [
    "## Extracting and Indexing"
   ]
  },
  {
   "cell_type": "markdown",
   "metadata": {},
   "source": [
    "Show datatype of each variable in dataframe."
   ]
  },
  {
   "cell_type": "code",
   "execution_count": 5,
   "metadata": {
    "collapsed": false,
    "scrolled": true
   },
   "outputs": [
    {
     "name": "stdout",
     "output_type": "stream",
     "text": [
      "Data types in dataframe: \n",
      "\n"
     ]
    },
    {
     "data": {
      "text/plain": [
       "Year        int64\n",
       "Month       int64\n",
       "emktrf    float64\n",
       "SMB       float64\n",
       "HML       float64\n",
       "           ...   \n",
       "R21       float64\n",
       "R22       float64\n",
       "R23       float64\n",
       "R24       float64\n",
       "R25       float64\n",
       "dtype: object"
      ]
     },
     "execution_count": 5,
     "metadata": {},
     "output_type": "execute_result"
    }
   ],
   "source": [
    "print('Data types in dataframe: \\n')\n",
    "dataframe.dtypes"
   ]
  },
  {
   "cell_type": "markdown",
   "metadata": {},
   "source": [
    "Set dataframe index to year for easier accessing:"
   ]
  },
  {
   "cell_type": "code",
   "execution_count": 6,
   "metadata": {
    "collapsed": false
   },
   "outputs": [
    {
     "data": {
      "text/html": [
       "<div>\n",
       "<table border=\"1\" class=\"dataframe\">\n",
       "  <thead>\n",
       "    <tr style=\"text-align: right;\">\n",
       "      <th></th>\n",
       "      <th>Month</th>\n",
       "      <th>emktrf</th>\n",
       "      <th>SMB</th>\n",
       "      <th>HML</th>\n",
       "      <th>...</th>\n",
       "      <th>R22</th>\n",
       "      <th>R23</th>\n",
       "      <th>R24</th>\n",
       "      <th>R25</th>\n",
       "    </tr>\n",
       "    <tr>\n",
       "      <th>Year</th>\n",
       "      <th></th>\n",
       "      <th></th>\n",
       "      <th></th>\n",
       "      <th></th>\n",
       "      <th></th>\n",
       "      <th></th>\n",
       "      <th></th>\n",
       "      <th></th>\n",
       "      <th></th>\n",
       "    </tr>\n",
       "  </thead>\n",
       "  <tbody>\n",
       "    <tr>\n",
       "      <th>1963</th>\n",
       "      <td>7</td>\n",
       "      <td>-0.44</td>\n",
       "      <td>-0.46</td>\n",
       "      <td>-0.97</td>\n",
       "      <td>...</td>\n",
       "      <td>0.35</td>\n",
       "      <td>1.17</td>\n",
       "      <td>-0.45</td>\n",
       "      <td>-1.11</td>\n",
       "    </tr>\n",
       "    <tr>\n",
       "      <th>1963</th>\n",
       "      <td>8</td>\n",
       "      <td>5.02</td>\n",
       "      <td>-1.08</td>\n",
       "      <td>1.79</td>\n",
       "      <td>...</td>\n",
       "      <td>4.34</td>\n",
       "      <td>4.66</td>\n",
       "      <td>8.16</td>\n",
       "      <td>6.25</td>\n",
       "    </tr>\n",
       "    <tr>\n",
       "      <th>1963</th>\n",
       "      <td>9</td>\n",
       "      <td>-1.46</td>\n",
       "      <td>-0.32</td>\n",
       "      <td>0.19</td>\n",
       "      <td>...</td>\n",
       "      <td>-0.75</td>\n",
       "      <td>-0.98</td>\n",
       "      <td>-0.12</td>\n",
       "      <td>-3.82</td>\n",
       "    </tr>\n",
       "    <tr>\n",
       "      <th>1963</th>\n",
       "      <td>10</td>\n",
       "      <td>2.48</td>\n",
       "      <td>-0.58</td>\n",
       "      <td>-0.02</td>\n",
       "      <td>...</td>\n",
       "      <td>1.73</td>\n",
       "      <td>-0.23</td>\n",
       "      <td>2.36</td>\n",
       "      <td>0.48</td>\n",
       "    </tr>\n",
       "    <tr>\n",
       "      <th>1963</th>\n",
       "      <td>11</td>\n",
       "      <td>-0.82</td>\n",
       "      <td>-1.06</td>\n",
       "      <td>1.59</td>\n",
       "      <td>...</td>\n",
       "      <td>0.98</td>\n",
       "      <td>-1.56</td>\n",
       "      <td>-2.05</td>\n",
       "      <td>1.37</td>\n",
       "    </tr>\n",
       "    <tr>\n",
       "      <th>...</th>\n",
       "      <td>...</td>\n",
       "      <td>...</td>\n",
       "      <td>...</td>\n",
       "      <td>...</td>\n",
       "      <td>...</td>\n",
       "      <td>...</td>\n",
       "      <td>...</td>\n",
       "      <td>...</td>\n",
       "      <td>...</td>\n",
       "    </tr>\n",
       "    <tr>\n",
       "      <th>1991</th>\n",
       "      <td>8</td>\n",
       "      <td>2.22</td>\n",
       "      <td>1.61</td>\n",
       "      <td>-0.76</td>\n",
       "      <td>...</td>\n",
       "      <td>0.59</td>\n",
       "      <td>2.81</td>\n",
       "      <td>1.22</td>\n",
       "      <td>1.76</td>\n",
       "    </tr>\n",
       "    <tr>\n",
       "      <th>1991</th>\n",
       "      <td>9</td>\n",
       "      <td>-1.56</td>\n",
       "      <td>1.68</td>\n",
       "      <td>-1.03</td>\n",
       "      <td>...</td>\n",
       "      <td>-1.24</td>\n",
       "      <td>-0.98</td>\n",
       "      <td>0.48</td>\n",
       "      <td>-3.83</td>\n",
       "    </tr>\n",
       "    <tr>\n",
       "      <th>1991</th>\n",
       "      <td>10</td>\n",
       "      <td>1.36</td>\n",
       "      <td>0.82</td>\n",
       "      <td>-0.41</td>\n",
       "      <td>...</td>\n",
       "      <td>1.00</td>\n",
       "      <td>2.00</td>\n",
       "      <td>3.16</td>\n",
       "      <td>0.49</td>\n",
       "    </tr>\n",
       "    <tr>\n",
       "      <th>1991</th>\n",
       "      <td>11</td>\n",
       "      <td>-4.12</td>\n",
       "      <td>-0.56</td>\n",
       "      <td>-1.78</td>\n",
       "      <td>...</td>\n",
       "      <td>-5.50</td>\n",
       "      <td>-5.51</td>\n",
       "      <td>-3.79</td>\n",
       "      <td>-8.33</td>\n",
       "    </tr>\n",
       "    <tr>\n",
       "      <th>1991</th>\n",
       "      <td>12</td>\n",
       "      <td>10.30</td>\n",
       "      <td>-2.35</td>\n",
       "      <td>-3.92</td>\n",
       "      <td>...</td>\n",
       "      <td>8.95</td>\n",
       "      <td>8.29</td>\n",
       "      <td>7.02</td>\n",
       "      <td>12.86</td>\n",
       "    </tr>\n",
       "  </tbody>\n",
       "</table>\n",
       "<p>342 rows × 30 columns</p>\n",
       "</div>"
      ],
      "text/plain": [
       "      Month  emktrf   SMB   HML  ...     R22   R23   R24    R25\n",
       "Year                             ...                           \n",
       "1963      7   -0.44 -0.46 -0.97  ...    0.35  1.17 -0.45  -1.11\n",
       "1963      8    5.02 -1.08  1.79  ...    4.34  4.66  8.16   6.25\n",
       "1963      9   -1.46 -0.32  0.19  ...   -0.75 -0.98 -0.12  -3.82\n",
       "1963     10    2.48 -0.58 -0.02  ...    1.73 -0.23  2.36   0.48\n",
       "1963     11   -0.82 -1.06  1.59  ...    0.98 -1.56 -2.05   1.37\n",
       "...     ...     ...   ...   ...  ...     ...   ...   ...    ...\n",
       "1991      8    2.22  1.61 -0.76  ...    0.59  2.81  1.22   1.76\n",
       "1991      9   -1.56  1.68 -1.03  ...   -1.24 -0.98  0.48  -3.83\n",
       "1991     10    1.36  0.82 -0.41  ...    1.00  2.00  3.16   0.49\n",
       "1991     11   -4.12 -0.56 -1.78  ...   -5.50 -5.51 -3.79  -8.33\n",
       "1991     12   10.30 -2.35 -3.92  ...    8.95  8.29  7.02  12.86\n",
       "\n",
       "[342 rows x 30 columns]"
      ]
     },
     "execution_count": 6,
     "metadata": {},
     "output_type": "execute_result"
    }
   ],
   "source": [
    "dataframe = dataframe.set_index('Year')\n",
    "dataframe"
   ]
  },
  {
   "cell_type": "markdown",
   "metadata": {},
   "source": [
    "Accessing via label slices (range):"
   ]
  },
  {
   "cell_type": "code",
   "execution_count": 7,
   "metadata": {
    "collapsed": false
   },
   "outputs": [
    {
     "data": {
      "text/html": [
       "<div>\n",
       "<table border=\"1\" class=\"dataframe\">\n",
       "  <thead>\n",
       "    <tr style=\"text-align: right;\">\n",
       "      <th></th>\n",
       "      <th>R1</th>\n",
       "      <th>R2</th>\n",
       "      <th>R3</th>\n",
       "      <th>R4</th>\n",
       "      <th>R5</th>\n",
       "    </tr>\n",
       "    <tr>\n",
       "      <th>Year</th>\n",
       "      <th></th>\n",
       "      <th></th>\n",
       "      <th></th>\n",
       "      <th></th>\n",
       "      <th></th>\n",
       "    </tr>\n",
       "  </thead>\n",
       "  <tbody>\n",
       "    <tr>\n",
       "      <th>1970</th>\n",
       "      <td>-4.80</td>\n",
       "      <td>-3.14</td>\n",
       "      <td>-4.24</td>\n",
       "      <td>-2.47</td>\n",
       "      <td>0.24</td>\n",
       "    </tr>\n",
       "    <tr>\n",
       "      <th>1970</th>\n",
       "      <td>2.32</td>\n",
       "      <td>3.66</td>\n",
       "      <td>3.77</td>\n",
       "      <td>3.18</td>\n",
       "      <td>4.58</td>\n",
       "    </tr>\n",
       "    <tr>\n",
       "      <th>1970</th>\n",
       "      <td>-6.57</td>\n",
       "      <td>-5.20</td>\n",
       "      <td>-2.56</td>\n",
       "      <td>0.31</td>\n",
       "      <td>-1.29</td>\n",
       "    </tr>\n",
       "    <tr>\n",
       "      <th>1970</th>\n",
       "      <td>-24.09</td>\n",
       "      <td>-18.97</td>\n",
       "      <td>-14.76</td>\n",
       "      <td>-12.98</td>\n",
       "      <td>-12.25</td>\n",
       "    </tr>\n",
       "    <tr>\n",
       "      <th>1970</th>\n",
       "      <td>-10.07</td>\n",
       "      <td>-10.18</td>\n",
       "      <td>-9.13</td>\n",
       "      <td>-8.12</td>\n",
       "      <td>-10.37</td>\n",
       "    </tr>\n",
       "    <tr>\n",
       "      <th>...</th>\n",
       "      <td>...</td>\n",
       "      <td>...</td>\n",
       "      <td>...</td>\n",
       "      <td>...</td>\n",
       "      <td>...</td>\n",
       "    </tr>\n",
       "    <tr>\n",
       "      <th>1975</th>\n",
       "      <td>-7.02</td>\n",
       "      <td>-6.33</td>\n",
       "      <td>-4.82</td>\n",
       "      <td>-5.36</td>\n",
       "      <td>-7.69</td>\n",
       "    </tr>\n",
       "    <tr>\n",
       "      <th>1975</th>\n",
       "      <td>-5.36</td>\n",
       "      <td>-2.42</td>\n",
       "      <td>-3.12</td>\n",
       "      <td>-2.93</td>\n",
       "      <td>-3.89</td>\n",
       "    </tr>\n",
       "    <tr>\n",
       "      <th>1975</th>\n",
       "      <td>1.51</td>\n",
       "      <td>1.39</td>\n",
       "      <td>2.75</td>\n",
       "      <td>2.73</td>\n",
       "      <td>1.00</td>\n",
       "    </tr>\n",
       "    <tr>\n",
       "      <th>1975</th>\n",
       "      <td>0.06</td>\n",
       "      <td>1.91</td>\n",
       "      <td>1.96</td>\n",
       "      <td>2.49</td>\n",
       "      <td>3.67</td>\n",
       "    </tr>\n",
       "    <tr>\n",
       "      <th>1975</th>\n",
       "      <td>-0.91</td>\n",
       "      <td>-1.21</td>\n",
       "      <td>-1.17</td>\n",
       "      <td>-1.02</td>\n",
       "      <td>-1.45</td>\n",
       "    </tr>\n",
       "  </tbody>\n",
       "</table>\n",
       "<p>72 rows × 5 columns</p>\n",
       "</div>"
      ],
      "text/plain": [
       "         R1     R2     R3     R4     R5\n",
       "Year                                   \n",
       "1970  -4.80  -3.14  -4.24  -2.47   0.24\n",
       "1970   2.32   3.66   3.77   3.18   4.58\n",
       "1970  -6.57  -5.20  -2.56   0.31  -1.29\n",
       "1970 -24.09 -18.97 -14.76 -12.98 -12.25\n",
       "1970 -10.07 -10.18  -9.13  -8.12 -10.37\n",
       "...     ...    ...    ...    ...    ...\n",
       "1975  -7.02  -6.33  -4.82  -5.36  -7.69\n",
       "1975  -5.36  -2.42  -3.12  -2.93  -3.89\n",
       "1975   1.51   1.39   2.75   2.73   1.00\n",
       "1975   0.06   1.91   1.96   2.49   3.67\n",
       "1975  -0.91  -1.21  -1.17  -1.02  -1.45\n",
       "\n",
       "[72 rows x 5 columns]"
      ]
     },
     "execution_count": 7,
     "metadata": {},
     "output_type": "execute_result"
    }
   ],
   "source": [
    "dataframe.loc[1970:1975,'R1':'R5']"
   ]
  },
  {
   "cell_type": "markdown",
   "metadata": {},
   "source": [
    "Accessing via label slices (individual):"
   ]
  },
  {
   "cell_type": "code",
   "execution_count": 8,
   "metadata": {
    "collapsed": false
   },
   "outputs": [
    {
     "data": {
      "text/html": [
       "<div>\n",
       "<table border=\"1\" class=\"dataframe\">\n",
       "  <thead>\n",
       "    <tr style=\"text-align: right;\">\n",
       "      <th></th>\n",
       "      <th>R1</th>\n",
       "      <th>R5</th>\n",
       "    </tr>\n",
       "    <tr>\n",
       "      <th>Year</th>\n",
       "      <th></th>\n",
       "      <th></th>\n",
       "    </tr>\n",
       "  </thead>\n",
       "  <tbody>\n",
       "    <tr>\n",
       "      <th>1970</th>\n",
       "      <td>-4.80</td>\n",
       "      <td>0.24</td>\n",
       "    </tr>\n",
       "    <tr>\n",
       "      <th>1970</th>\n",
       "      <td>2.32</td>\n",
       "      <td>4.58</td>\n",
       "    </tr>\n",
       "    <tr>\n",
       "      <th>1970</th>\n",
       "      <td>-6.57</td>\n",
       "      <td>-1.29</td>\n",
       "    </tr>\n",
       "    <tr>\n",
       "      <th>1970</th>\n",
       "      <td>-24.09</td>\n",
       "      <td>-12.25</td>\n",
       "    </tr>\n",
       "    <tr>\n",
       "      <th>1970</th>\n",
       "      <td>-10.07</td>\n",
       "      <td>-10.37</td>\n",
       "    </tr>\n",
       "    <tr>\n",
       "      <th>...</th>\n",
       "      <td>...</td>\n",
       "      <td>...</td>\n",
       "    </tr>\n",
       "    <tr>\n",
       "      <th>1975</th>\n",
       "      <td>-7.02</td>\n",
       "      <td>-7.69</td>\n",
       "    </tr>\n",
       "    <tr>\n",
       "      <th>1975</th>\n",
       "      <td>-5.36</td>\n",
       "      <td>-3.89</td>\n",
       "    </tr>\n",
       "    <tr>\n",
       "      <th>1975</th>\n",
       "      <td>1.51</td>\n",
       "      <td>1.00</td>\n",
       "    </tr>\n",
       "    <tr>\n",
       "      <th>1975</th>\n",
       "      <td>0.06</td>\n",
       "      <td>3.67</td>\n",
       "    </tr>\n",
       "    <tr>\n",
       "      <th>1975</th>\n",
       "      <td>-0.91</td>\n",
       "      <td>-1.45</td>\n",
       "    </tr>\n",
       "  </tbody>\n",
       "</table>\n",
       "<p>24 rows × 2 columns</p>\n",
       "</div>"
      ],
      "text/plain": [
       "         R1     R5\n",
       "Year              \n",
       "1970  -4.80   0.24\n",
       "1970   2.32   4.58\n",
       "1970  -6.57  -1.29\n",
       "1970 -24.09 -12.25\n",
       "1970 -10.07 -10.37\n",
       "...     ...    ...\n",
       "1975  -7.02  -7.69\n",
       "1975  -5.36  -3.89\n",
       "1975   1.51   1.00\n",
       "1975   0.06   3.67\n",
       "1975  -0.91  -1.45\n",
       "\n",
       "[24 rows x 2 columns]"
      ]
     },
     "execution_count": 8,
     "metadata": {},
     "output_type": "execute_result"
    }
   ],
   "source": [
    "dataframe.loc[[1970,1975],['R1','R5']]"
   ]
  },
  {
   "cell_type": "markdown",
   "metadata": {},
   "source": [
    "Accessing via integer slices"
   ]
  },
  {
   "cell_type": "code",
   "execution_count": 9,
   "metadata": {
    "collapsed": false
   },
   "outputs": [
    {
     "data": {
      "text/html": [
       "<div>\n",
       "<table border=\"1\" class=\"dataframe\">\n",
       "  <thead>\n",
       "    <tr style=\"text-align: right;\">\n",
       "      <th></th>\n",
       "      <th>R1</th>\n",
       "      <th>R2</th>\n",
       "      <th>R3</th>\n",
       "      <th>R4</th>\n",
       "      <th>R5</th>\n",
       "    </tr>\n",
       "    <tr>\n",
       "      <th>Year</th>\n",
       "      <th></th>\n",
       "      <th></th>\n",
       "      <th></th>\n",
       "      <th></th>\n",
       "      <th></th>\n",
       "    </tr>\n",
       "  </thead>\n",
       "  <tbody>\n",
       "    <tr>\n",
       "      <th>1970</th>\n",
       "      <td>-4.80</td>\n",
       "      <td>-3.14</td>\n",
       "      <td>-4.24</td>\n",
       "      <td>-2.47</td>\n",
       "      <td>0.24</td>\n",
       "    </tr>\n",
       "    <tr>\n",
       "      <th>1970</th>\n",
       "      <td>2.32</td>\n",
       "      <td>3.66</td>\n",
       "      <td>3.77</td>\n",
       "      <td>3.18</td>\n",
       "      <td>4.58</td>\n",
       "    </tr>\n",
       "    <tr>\n",
       "      <th>1970</th>\n",
       "      <td>-6.57</td>\n",
       "      <td>-5.20</td>\n",
       "      <td>-2.56</td>\n",
       "      <td>0.31</td>\n",
       "      <td>-1.29</td>\n",
       "    </tr>\n",
       "    <tr>\n",
       "      <th>1970</th>\n",
       "      <td>-24.09</td>\n",
       "      <td>-18.97</td>\n",
       "      <td>-14.76</td>\n",
       "      <td>-12.98</td>\n",
       "      <td>-12.25</td>\n",
       "    </tr>\n",
       "    <tr>\n",
       "      <th>1970</th>\n",
       "      <td>-10.07</td>\n",
       "      <td>-10.18</td>\n",
       "      <td>-9.13</td>\n",
       "      <td>-8.12</td>\n",
       "      <td>-10.37</td>\n",
       "    </tr>\n",
       "    <tr>\n",
       "      <th>...</th>\n",
       "      <td>...</td>\n",
       "      <td>...</td>\n",
       "      <td>...</td>\n",
       "      <td>...</td>\n",
       "      <td>...</td>\n",
       "    </tr>\n",
       "    <tr>\n",
       "      <th>1975</th>\n",
       "      <td>-7.02</td>\n",
       "      <td>-6.33</td>\n",
       "      <td>-4.82</td>\n",
       "      <td>-5.36</td>\n",
       "      <td>-7.69</td>\n",
       "    </tr>\n",
       "    <tr>\n",
       "      <th>1975</th>\n",
       "      <td>-5.36</td>\n",
       "      <td>-2.42</td>\n",
       "      <td>-3.12</td>\n",
       "      <td>-2.93</td>\n",
       "      <td>-3.89</td>\n",
       "    </tr>\n",
       "    <tr>\n",
       "      <th>1975</th>\n",
       "      <td>1.51</td>\n",
       "      <td>1.39</td>\n",
       "      <td>2.75</td>\n",
       "      <td>2.73</td>\n",
       "      <td>1.00</td>\n",
       "    </tr>\n",
       "    <tr>\n",
       "      <th>1975</th>\n",
       "      <td>0.06</td>\n",
       "      <td>1.91</td>\n",
       "      <td>1.96</td>\n",
       "      <td>2.49</td>\n",
       "      <td>3.67</td>\n",
       "    </tr>\n",
       "    <tr>\n",
       "      <th>1975</th>\n",
       "      <td>-0.91</td>\n",
       "      <td>-1.21</td>\n",
       "      <td>-1.17</td>\n",
       "      <td>-1.02</td>\n",
       "      <td>-1.45</td>\n",
       "    </tr>\n",
       "  </tbody>\n",
       "</table>\n",
       "<p>72 rows × 5 columns</p>\n",
       "</div>"
      ],
      "text/plain": [
       "         R1     R2     R3     R4     R5\n",
       "Year                                   \n",
       "1970  -4.80  -3.14  -4.24  -2.47   0.24\n",
       "1970   2.32   3.66   3.77   3.18   4.58\n",
       "1970  -6.57  -5.20  -2.56   0.31  -1.29\n",
       "1970 -24.09 -18.97 -14.76 -12.98 -12.25\n",
       "1970 -10.07 -10.18  -9.13  -8.12 -10.37\n",
       "...     ...    ...    ...    ...    ...\n",
       "1975  -7.02  -6.33  -4.82  -5.36  -7.69\n",
       "1975  -5.36  -2.42  -3.12  -2.93  -3.89\n",
       "1975   1.51   1.39   2.75   2.73   1.00\n",
       "1975   0.06   1.91   1.96   2.49   3.67\n",
       "1975  -0.91  -1.21  -1.17  -1.02  -1.45\n",
       "\n",
       "[72 rows x 5 columns]"
      ]
     },
     "execution_count": 9,
     "metadata": {},
     "output_type": "execute_result"
    }
   ],
   "source": [
    "dataframe.ix[1970:1975,5:10]"
   ]
  },
  {
   "cell_type": "markdown",
   "metadata": {},
   "source": [
    "# Plotting and Analyzing Data"
   ]
  },
  {
   "cell_type": "markdown",
   "metadata": {},
   "source": [
    "To plot the dataframe, we need to import matplotlib. We should also set inline plots in the notebook to make viewing easier."
   ]
  },
  {
   "cell_type": "code",
   "execution_count": 11,
   "metadata": {
    "collapsed": false
   },
   "outputs": [
    {
     "name": "stdout",
     "output_type": "stream",
     "text": [
      "Populating the interactive namespace from numpy and matplotlib\n"
     ]
    }
   ],
   "source": [
    "import matplotlib.pyplot as plt\n",
    "%pylab inline  "
   ]
  },
  {
   "cell_type": "markdown",
   "metadata": {},
   "source": [
    "It's easy to plot all the 'R1' data. Note the double brackets in the legend!"
   ]
  },
  {
   "cell_type": "code",
   "execution_count": 12,
   "metadata": {
    "collapsed": false
   },
   "outputs": [
    {
     "data": {
      "text/plain": [
       "<matplotlib.legend.Legend at 0x587bff0>"
      ]
     },
     "execution_count": 12,
     "metadata": {},
     "output_type": "execute_result"
    },
    {
     "data": {
      "image/png": "[encoded data removed]",
      "text/plain": [
       "<matplotlib.figure.Figure at 0x1b0e8d0>"
      ]
     },
     "metadata": {},
     "output_type": "display_data"
    }
   ],
   "source": [
    "dataframe.plot(y='R1')\n",
    "plt.legend(('R1',))"
   ]
  },
  {
   "cell_type": "markdown",
   "metadata": {},
   "source": [
    "You can also perform summarizing operations on the entire dataframe. To calculate the sums:"
   ]
  },
  {
   "cell_type": "code",
   "execution_count": 13,
   "metadata": {
    "collapsed": false
   },
   "outputs": [
    {
     "data": {
      "text/plain": [
       "Month     2241.00\n",
       "emktrf     136.10\n",
       "SMB         90.75\n",
       "HML        135.70\n",
       "RF         189.12\n",
       "           ...   \n",
       "R21        316.44\n",
       "R22        304.36\n",
       "R23        312.70\n",
       "R24        363.98\n",
       "R25        362.71\n",
       "dtype: float64"
      ]
     },
     "execution_count": 13,
     "metadata": {},
     "output_type": "execute_result"
    }
   ],
   "source": [
    "dataframe.sum()"
   ]
  },
  {
   "cell_type": "markdown",
   "metadata": {},
   "source": [
    "To calculate the mean:"
   ]
  },
  {
   "cell_type": "code",
   "execution_count": 14,
   "metadata": {
    "collapsed": false
   },
   "outputs": [
    {
     "data": {
      "text/plain": [
       "Month     6.552632\n",
       "emktrf    0.397953\n",
       "SMB       0.265351\n",
       "HML       0.396784\n",
       "RF        0.552982\n",
       "            ...   \n",
       "R21       0.925263\n",
       "R22       0.889942\n",
       "R23       0.914327\n",
       "R24       1.064269\n",
       "R25       1.060556\n",
       "dtype: float64"
      ]
     },
     "execution_count": 14,
     "metadata": {},
     "output_type": "execute_result"
    }
   ],
   "source": [
    "dataframe.mean()"
   ]
  },
  {
   "cell_type": "markdown",
   "metadata": {},
   "source": [
    "To calculate the median:"
   ]
  },
  {
   "cell_type": "code",
   "execution_count": 15,
   "metadata": {
    "collapsed": false
   },
   "outputs": [
    {
     "data": {
      "text/plain": [
       "Month     7.000\n",
       "emktrf    0.490\n",
       "SMB       0.105\n",
       "HML       0.440\n",
       "RF        0.510\n",
       "          ...  \n",
       "R21       0.990\n",
       "R22       0.800\n",
       "R23       0.945\n",
       "R24       0.900\n",
       "R25       1.060\n",
       "dtype: float64"
      ]
     },
     "execution_count": 15,
     "metadata": {},
     "output_type": "execute_result"
    }
   ],
   "source": [
    "dataframe.median()"
   ]
  }
 ],
 "metadata": {
  "kernelspec": {
   "display_name": "Python 3",
   "language": "python",
   "name": "python3"
  },
  "language_info": {
   "codemirror_mode": {
    "name": "ipython",
    "version": 3
   },
   "file_extension": ".py",
   "mimetype": "text/x-python",
   "name": "python",
   "nbconvert_exporter": "python",
   "pygments_lexer": "ipython3",
   "version": "3.5.2"
  }
 },
 "nbformat": 4,
 "nbformat_minor": 0
}
